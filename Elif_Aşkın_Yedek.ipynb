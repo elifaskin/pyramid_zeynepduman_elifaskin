{
  "nbformat": 4,
  "nbformat_minor": 0,
  "metadata": {
    "colab": {
      "provenance": [],
      "authorship_tag": "ABX9TyOtMZb+ktekvLHR/1tEbCEc",
      "include_colab_link": true
    },
    "kernelspec": {
      "name": "python3",
      "display_name": "Python 3"
    },
    "language_info": {
      "name": "python"
    }
  },
  "cells": [
    {
      "cell_type": "markdown",
      "metadata": {
        "id": "view-in-github",
        "colab_type": "text"
      },
      "source": [
        "<a href=\"https://colab.research.google.com/github/elifaskin/pyramid_zeynepduman_elifaskin/blob/main/Elif_A%C5%9Fk%C4%B1n_Yedek.ipynb\" target=\"_parent\"><img src=\"https://colab.research.google.com/assets/colab-badge.svg\" alt=\"Open In Colab\"/></a>"
      ]
    },
    {
      "cell_type": "code",
      "execution_count": null,
      "metadata": {
        "id": "9yrN0E77f2sZ"
      },
      "outputs": [],
      "source": [
        "# This game is designed by Zeynep İrem Duman and Elif Aşkın. However, the code was written individually.\n",
        "\n",
        "import random\n",
        "def pyramid_zeynepduman_elifaskin():\n",
        "  print ('WELCOME TO PYRAMID GAME!')\n",
        "  print ('This game is inspired by the food chain in its design.')\n",
        "  print ('RULES: We have 3 character. Lion,Elephant and Crocodile. Lion eats crododile.Crocodile eats elephant. Elephant eats lion.Law of nature😜')\n",
        "  print (\"The player who leads  2 points wins the game.Good luck!\")\n",
        "  choices = [\"lion\", \"elephant\", \"crocodile\"]\n",
        "  user_score = 0\n",
        "  computer_score = 0\n",
        "  while True:\n",
        "        user_choice = input(\"Lion, Elephant or Crocodile? (If you do not want to play write 'exit'):\").lower()\n",
        "        if user_choice == 'exit':\n",
        "           print(\"GAME OVER😡\")\n",
        "           break\n",
        "        if user_choice not in choices:\n",
        "            print('Invalid choice. Please try again 😮')\n",
        "            continue\n",
        "\n",
        "        #Determine the selection of the camputer.\n",
        "        computer_choice = random.choice(choices)\n",
        "\n",
        "        print (f\"Your choice: {user_choice}\")\n",
        "        print (f\"Camputer's choice: {computer_choice}\")\n",
        "\n",
        "\n",
        "        # Check the game result\n",
        "        if user_choice == computer_choice:\n",
        "            print (\"Scoreless! Try Again🙂\")\n",
        "        elif (\n",
        "            (user_choice == 'lion' and computer_choice == 'crocodile') or\n",
        "            (user_choice == 'elephant' and computer_choice == 'lion') or\n",
        "            (user_choice == 'crocodile' and computer_choice == 'fil') ):\n",
        "            print (\"Congratulations! You win🥳\")\n",
        "            user_score += 1\n",
        "\n",
        "            print (f\"Skor: You {user_score} - {computer_score} Computer\")\n",
        "        else:\n",
        "            print (\"Sorry! You lose🥹\")\n",
        "            computer_score += 1\n",
        "\n",
        "            print (f\"Skor: You {user_score} - {computer_score} Computer\")\n",
        "\n",
        "        # Check the game. The player who leads 2 points wins the game.\n",
        "        if abs(user_score - computer_score) ==2 :\n",
        "            if user_score > computer_score:\n",
        "                print (\"The game is over.Congratulations.You win🥳🥳!\")\n",
        "\n",
        "            else:\n",
        "                  print(\"The game is over.Sorry. You lose🥹!\")\n",
        "                  play_again = input(\"Do you want to play again ? (Yes/No)\")\n",
        "            if play_again.lower() != 'yes':\n",
        "             print(\"THE GAME İS OVER.HAVE A NICE DAY\")\n",
        "             break\n",
        "            else:\n",
        "             print(\"New game is starting\")\n",
        "             user_score = 0\n",
        "             computer_score = 0"
      ]
    }
  ]
}